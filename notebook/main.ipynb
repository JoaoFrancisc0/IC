{
 "cells": [
  {
   "cell_type": "markdown",
   "id": "a606cf96",
   "metadata": {},
   "source": [
    "REDIMENSIONAMENTO E NORMALIZAÇÃO"
   ]
  },
  {
   "cell_type": "code",
   "execution_count": 10,
   "id": "8eeecf12",
   "metadata": {},
   "outputs": [],
   "source": [
    "import os, cv2, numpy as np\n",
    "\n",
    "# médias e desvios do ImageNet (R, G, B)\n",
    "MEAN = np.array([0.485, 0.456, 0.406], dtype=np.float32)\n",
    "STD  = np.array([0.229, 0.224, 0.225], dtype=np.float32)\n",
    "\n",
    "def load_images_from(dir_path, img_size=(224,224)):\n",
    "    imgs, lbls = [], []\n",
    "    for class_name in os.listdir(dir_path):\n",
    "        class_path = os.path.join(dir_path, class_name)\n",
    "        if not os.path.isdir(class_path):\n",
    "            continue\n",
    "        for img_name in os.listdir(class_path):\n",
    "            img = cv2.imread(os.path.join(class_path, img_name))\n",
    "            if img is None:\n",
    "                continue\n",
    "            # 1) redimensiona e converte para float [0,1]\n",
    "            img = cv2.resize(img, img_size).astype(np.float32) / 255.0\n",
    "            # 2) normaliza canal a canal\n",
    "            #    aqui img está em H×W×3; ajustamos os eixos para poder usar broadcasting\n",
    "            img = (img - MEAN.reshape(1,1,3)) / STD.reshape(1,1,3)\n",
    "\n",
    "            imgs.append(img)\n",
    "            lbls.append(class_name)\n",
    "    return np.array(imgs), np.array(lbls)\n",
    "\n",
    "# exemplo de uso\n",
    "train_images, train_labels = load_images_from(\"../data/interim/treino\")\n",
    "val_images,   val_labels   = load_images_from(\"../data/interim/validação\")\n",
    "test_images,  test_labels  = load_images_from(\"../data/interim/teste\")\n"
   ]
  },
  {
   "cell_type": "markdown",
   "id": "86093ac4",
   "metadata": {},
   "source": [
    "TRANSFER TRAINING (ResNet-34)"
   ]
  }
 ],
 "metadata": {
  "kernelspec": {
   "display_name": "Python 3",
   "language": "python",
   "name": "python3"
  },
  "language_info": {
   "codemirror_mode": {
    "name": "ipython",
    "version": 3
   },
   "file_extension": ".py",
   "mimetype": "text/x-python",
   "name": "python",
   "nbconvert_exporter": "python",
   "pygments_lexer": "ipython3",
   "version": "3.13.1"
  }
 },
 "nbformat": 4,
 "nbformat_minor": 5
}

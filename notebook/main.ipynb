{
 "cells": [
  {
   "cell_type": "markdown",
   "id": "a606cf96",
   "metadata": {},
   "source": [
    "REDIMENSIONAMENTO E NORMALIZAÇÃO"
   ]
  },
  {
   "cell_type": "code",
   "execution_count": 1,
   "id": "8eeecf12",
   "metadata": {},
   "outputs": [],
   "source": [
    "import os, cv2, numpy as np\n",
    "\n",
    "def load_images_from(dir_path, img_size=(224,224)):\n",
    "    imgs, lbls = [], []\n",
    "    for class_name in os.listdir(dir_path):\n",
    "        class_path = os.path.join(dir_path, class_name)\n",
    "        if not os.path.isdir(class_path): continue\n",
    "        for img_name in os.listdir(class_path):\n",
    "            img = cv2.imread(os.path.join(class_path, img_name))\n",
    "            if img is None: continue\n",
    "            img = cv2.resize(img, img_size)\n",
    "            img = img.astype(np.float32) / 255.0\n",
    "            imgs.append(img); lbls.append(class_name)\n",
    "    return np.array(imgs), np.array(lbls)\n",
    "\n",
    "train_images, train_labels = load_images_from(\"../data/treino\")\n",
    "val_images,   val_labels   = load_images_from(\"../data/validação\")\n",
    "test_images,  test_labels  = load_images_from(\"../data/teste\")\n"
   ]
  }
 ],
 "metadata": {
  "kernelspec": {
   "display_name": "Python 3",
   "language": "python",
   "name": "python3"
  },
  "language_info": {
   "codemirror_mode": {
    "name": "ipython",
    "version": 3
   },
   "file_extension": ".py",
   "mimetype": "text/x-python",
   "name": "python",
   "nbconvert_exporter": "python",
   "pygments_lexer": "ipython3",
   "version": "3.13.1"
  }
 },
 "nbformat": 4,
 "nbformat_minor": 5
}
